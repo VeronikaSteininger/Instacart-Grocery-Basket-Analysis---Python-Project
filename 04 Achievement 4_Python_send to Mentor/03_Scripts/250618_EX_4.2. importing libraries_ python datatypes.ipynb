{
 "cells": [
  {
   "cell_type": "markdown",
   "id": "5b6251f6-a37c-451f-921c-0992dac27641",
   "metadata": {},
   "source": [
    "LIST OF CONTENTimporting libraries_ python datatypes\n",
    "\n",
    "1 import libraries\n",
    "2 python datatypes\n",
    "2.1.integers\n",
    "2.2.floats\n",
    "2.3.strings"
   ]
  },
  {
   "cell_type": "markdown",
   "id": "dca3ee6a-f8b3-4437-93a7-f48775c7814e",
   "metadata": {},
   "source": [
    "# 1 import libraries"
   ]
  },
  {
   "cell_type": "code",
   "execution_count": 1,
   "id": "9408f0ba-2d66-4aa5-86c1-dec10defb78e",
   "metadata": {},
   "outputs": [],
   "source": [
    "# importing librariers\n",
    "import pandas as pd\n",
    "import numpy as np\n",
    "import os"
   ]
  },
  {
   "cell_type": "markdown",
   "id": "265433b7-c593-4678-9bf4-4a9fc19ce1b6",
   "metadata": {},
   "source": [
    "# 2 python datatypes"
   ]
  },
  {
   "cell_type": "code",
   "execution_count": 20,
   "id": "878575a7-8021-4412-a396-1407c85dbd15",
   "metadata": {},
   "outputs": [],
   "source": [
    "#2.1.integers\n",
    "x=50"
   ]
  },
  {
   "cell_type": "code",
   "execution_count": 4,
   "id": "69306c40-75c4-46ed-b57e-cf1dc7c71069",
   "metadata": {},
   "outputs": [
    {
     "name": "stdout",
     "output_type": "stream",
     "text": [
      "50\n"
     ]
    }
   ],
   "source": [
    "print(x)"
   ]
  },
  {
   "cell_type": "code",
   "execution_count": 5,
   "id": "d05c0bae-edca-4b0f-8f2a-6caa5fcf45db",
   "metadata": {},
   "outputs": [
    {
     "data": {
      "text/plain": [
       "100"
      ]
     },
     "execution_count": 5,
     "metadata": {},
     "output_type": "execute_result"
    }
   ],
   "source": [
    "2*x"
   ]
  },
  {
   "cell_type": "code",
   "execution_count": 6,
   "id": "84ae2379-aa90-4789-8242-b0466d8db701",
   "metadata": {},
   "outputs": [
    {
     "data": {
      "text/plain": [
       "100"
      ]
     },
     "execution_count": 6,
     "metadata": {},
     "output_type": "execute_result"
    }
   ],
   "source": [
    "x+x"
   ]
  },
  {
   "cell_type": "code",
   "execution_count": 10,
   "id": "a04c8024-6703-45c1-92d1-37c55787f0ef",
   "metadata": {},
   "outputs": [],
   "source": [
    "y=25"
   ]
  },
  {
   "cell_type": "code",
   "execution_count": 11,
   "id": "e7078cde-371b-4d25-af14-c2ac87dc14b2",
   "metadata": {},
   "outputs": [
    {
     "data": {
      "text/plain": [
       "25"
      ]
     },
     "execution_count": 11,
     "metadata": {},
     "output_type": "execute_result"
    }
   ],
   "source": [
    "y"
   ]
  },
  {
   "cell_type": "code",
   "execution_count": 14,
   "id": "407e9daa-8351-4441-b2bb-785a520a9938",
   "metadata": {},
   "outputs": [
    {
     "data": {
      "text/plain": [
       "100"
      ]
     },
     "execution_count": 14,
     "metadata": {},
     "output_type": "execute_result"
    }
   ],
   "source": [
    "4*y"
   ]
  },
  {
   "cell_type": "code",
   "execution_count": 17,
   "id": "74f4d73a-d919-4735-891d-5192f0d81402",
   "metadata": {},
   "outputs": [],
   "source": [
    "z=4*y"
   ]
  },
  {
   "cell_type": "code",
   "execution_count": 18,
   "id": "ba1a57dc-a0e4-41b1-87bf-6af267e151b6",
   "metadata": {},
   "outputs": [
    {
     "data": {
      "text/plain": [
       "100"
      ]
     },
     "execution_count": 18,
     "metadata": {},
     "output_type": "execute_result"
    }
   ],
   "source": [
    "z"
   ]
  },
  {
   "cell_type": "code",
   "execution_count": 19,
   "id": "107abc23-36f3-4602-872b-e59427c2e5d9",
   "metadata": {},
   "outputs": [
    {
     "name": "stdout",
     "output_type": "stream",
     "text": [
      "100\n"
     ]
    }
   ],
   "source": [
    "print (z)"
   ]
  },
  {
   "cell_type": "code",
   "execution_count": null,
   "id": "2f1d15d0-d203-4ec3-b74a-47747a0c4806",
   "metadata": {},
   "outputs": [],
   "source": [
    "# 2.2 floats"
   ]
  },
  {
   "cell_type": "code",
   "execution_count": 21,
   "id": "ec3eaa8e-e1fb-44a1-9a1e-94de0daae440",
   "metadata": {},
   "outputs": [
    {
     "data": {
      "text/plain": [
       "33.333333333333336"
      ]
     },
     "execution_count": 21,
     "metadata": {},
     "output_type": "execute_result"
    }
   ],
   "source": [
    "z/3 "
   ]
  },
  {
   "cell_type": "code",
   "execution_count": 22,
   "id": "df347a09-9718-4fc1-b63a-2cab4e5386b7",
   "metadata": {},
   "outputs": [],
   "source": [
    "z=z/4"
   ]
  },
  {
   "cell_type": "code",
   "execution_count": 23,
   "id": "0e619999-a6a8-4124-a8b0-9a110732d65b",
   "metadata": {},
   "outputs": [
    {
     "data": {
      "text/plain": [
       "25.0"
      ]
     },
     "execution_count": 23,
     "metadata": {},
     "output_type": "execute_result"
    }
   ],
   "source": [
    "z"
   ]
  },
  {
   "cell_type": "code",
   "execution_count": 30,
   "id": "480dff74-133f-442f-a9af-d218fef9e30d",
   "metadata": {},
   "outputs": [],
   "source": [
    "x=z/3"
   ]
  },
  {
   "cell_type": "code",
   "execution_count": 31,
   "id": "bb1678ba-b495-49d5-a077-f8f12cfee31e",
   "metadata": {},
   "outputs": [
    {
     "data": {
      "text/plain": [
       "8.333333333333334"
      ]
     },
     "execution_count": 31,
     "metadata": {},
     "output_type": "execute_result"
    }
   ],
   "source": [
    "x"
   ]
  },
  {
   "cell_type": "code",
   "execution_count": 32,
   "id": "689af0ec-7560-4369-82da-a4e57622e46b",
   "metadata": {},
   "outputs": [
    {
     "data": {
      "text/plain": [
       "33.333333333333336"
      ]
     },
     "execution_count": 32,
     "metadata": {},
     "output_type": "execute_result"
    }
   ],
   "source": [
    "z+x"
   ]
  },
  {
   "cell_type": "code",
   "execution_count": null,
   "id": "aa714b58-c6e6-4878-a238-f190950330f0",
   "metadata": {},
   "outputs": [],
   "source": [
    "# 2.3.strings"
   ]
  },
  {
   "cell_type": "code",
   "execution_count": 41,
   "id": "dabdecbf-77d1-454c-a469-f13e861fd5ad",
   "metadata": {},
   "outputs": [],
   "source": [
    "w='ster'\n"
   ]
  },
  {
   "cell_type": "code",
   "execution_count": 42,
   "id": "840c73ff-8f81-4e5b-9d30-ba7f72ce182c",
   "metadata": {},
   "outputs": [],
   "source": [
    "v='ne'"
   ]
  },
  {
   "cell_type": "code",
   "execution_count": 43,
   "id": "ee14330b-eb65-4baf-809c-12d442ee8c94",
   "metadata": {},
   "outputs": [
    {
     "data": {
      "text/plain": [
       "'sterne'"
      ]
     },
     "execution_count": 43,
     "metadata": {},
     "output_type": "execute_result"
    }
   ],
   "source": [
    "w+v"
   ]
  },
  {
   "cell_type": "code",
   "execution_count": 45,
   "id": "4f9457a2-deda-497c-8994-efd5157076eb",
   "metadata": {},
   "outputs": [
    {
     "data": {
      "text/plain": [
       "'nester'"
      ]
     },
     "execution_count": 45,
     "metadata": {},
     "output_type": "execute_result"
    }
   ],
   "source": [
    "v+w"
   ]
  },
  {
   "cell_type": "code",
   "execution_count": 46,
   "id": "580ace90-e4b7-4c74-864d-d5e2db4c2d4f",
   "metadata": {},
   "outputs": [
    {
     "data": {
      "text/plain": [
       "'sternnester'"
      ]
     },
     "execution_count": 46,
     "metadata": {},
     "output_type": "execute_result"
    }
   ],
   "source": [
    "w+'n'+v+w"
   ]
  },
  {
   "cell_type": "code",
   "execution_count": 48,
   "id": "47fdf24c-9e2a-4bc4-bd1d-324ddcdd12e8",
   "metadata": {},
   "outputs": [],
   "source": [
    "u=w+'n'+v+w"
   ]
  },
  {
   "cell_type": "code",
   "execution_count": 50,
   "id": "32258ebf-dd24-4dbf-91e4-2f97530cf0a4",
   "metadata": {},
   "outputs": [],
   "source": [
    "t='himmel'"
   ]
  },
  {
   "cell_type": "code",
   "execution_count": 51,
   "id": "f395a8df-0c5d-4493-a1d1-a1cf76b5e274",
   "metadata": {},
   "outputs": [
    {
     "data": {
      "text/plain": [
       "'sternnesteramhimmel'"
      ]
     },
     "execution_count": 51,
     "metadata": {},
     "output_type": "execute_result"
    }
   ],
   "source": [
    "u+'am'+t"
   ]
  },
  {
   "cell_type": "code",
   "execution_count": 52,
   "id": "4914fa3d-1b60-41f9-a30c-1b5b13f31642",
   "metadata": {},
   "outputs": [
    {
     "data": {
      "text/plain": [
       "'sternnester am himmel'"
      ]
     },
     "execution_count": 52,
     "metadata": {},
     "output_type": "execute_result"
    }
   ],
   "source": [
    "u+' am'+' '+t"
   ]
  },
  {
   "cell_type": "code",
   "execution_count": 53,
   "id": "d703c88a-22a5-4d67-af8f-7908cf56e52b",
   "metadata": {},
   "outputs": [
    {
     "data": {
      "text/plain": [
       "'sterstersterstersterstersterne'"
      ]
     },
     "execution_count": 53,
     "metadata": {},
     "output_type": "execute_result"
    }
   ],
   "source": [
    "7*w+v"
   ]
  },
  {
   "cell_type": "code",
   "execution_count": 55,
   "id": "709dfad1-3746-425a-8be2-8206820dd574",
   "metadata": {},
   "outputs": [],
   "source": [
    "s=7*w+v"
   ]
  },
  {
   "cell_type": "code",
   "execution_count": 56,
   "id": "b821e9cd-94d5-42cb-93de-23d6be71b332",
   "metadata": {},
   "outputs": [],
   "source": [
    "# s= u+' am'+' '+t"
   ]
  },
  {
   "cell_type": "code",
   "execution_count": null,
   "id": "32fe694d-e6b5-42d3-b6c0-5a7c66249a75",
   "metadata": {},
   "outputs": [],
   "source": []
  }
 ],
 "metadata": {
  "kernelspec": {
   "display_name": "Python [conda env:base] *",
   "language": "python",
   "name": "conda-base-py"
  },
  "language_info": {
   "codemirror_mode": {
    "name": "ipython",
    "version": 3
   },
   "file_extension": ".py",
   "mimetype": "text/x-python",
   "name": "python",
   "nbconvert_exporter": "python",
   "pygments_lexer": "ipython3",
   "version": "3.12.7"
  }
 },
 "nbformat": 4,
 "nbformat_minor": 5
}
