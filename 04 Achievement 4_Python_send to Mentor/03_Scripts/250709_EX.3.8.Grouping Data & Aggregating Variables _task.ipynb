{
 "cells": [
  {
   "cell_type": "markdown",
   "id": "44df653e-2a56-4f52-840c-a0fae6eb5022",
   "metadata": {},
   "source": [
    "LIST OF CONTENT - Grouping Data & Aggregating Variables _task\n",
    "\n",
    "1. preparations\n",
    "2. gropuping data - identify mean of order_numbers with entire dataset\n",
    "3. defining max_order and creating max_order column\n",
    "4. assigning loyalty-flag with loc() function\n",
    "5. basic statistics of loyalty_flags\n",
    "6. create a spending_flag\n",
    "7. create an order_frequency_flag "
   ]
  },
  {
   "cell_type": "markdown",
   "id": "384de490-ed3a-47cb-a587-f59944aa0ba3",
   "metadata": {},
   "source": [
    "# 1. preparations"
   ]
  },
  {
   "cell_type": "code",
   "execution_count": 1,
   "id": "ec69b283-0b24-4d90-87d9-1b046a5e42d9",
   "metadata": {},
   "outputs": [],
   "source": [
    "import pandas as pd\n",
    "import numpy as np\n",
    "import os"
   ]
  },
  {
   "cell_type": "code",
   "execution_count": 2,
   "id": "908afc6b-4f16-400c-8136-e5194fc87e53",
   "metadata": {},
   "outputs": [],
   "source": [
    "path=r'/Users/ru/Desktop/CF/04 Achievement 4_Python'"
   ]
  },
  {
   "cell_type": "code",
   "execution_count": 3,
   "id": "defce0a4-77ba-421d-a805-9680162e2dc6",
   "metadata": {},
   "outputs": [],
   "source": [
    "ords_prods_merge = pd.read_pickle(os.path.join(path,\n",
    "'02_Data','2.2 Prepared Data', 'ords_prods_merge_4.7.pkl'))"
   ]
  },
  {
   "cell_type": "code",
   "execution_count": 4,
   "id": "4ba88d21-2078-4f16-a719-cdc3c5364a1f",
   "metadata": {},
   "outputs": [
    {
     "data": {
      "text/plain": [
       "(32435070, 19)"
      ]
     },
     "execution_count": 4,
     "metadata": {},
     "output_type": "execute_result"
    }
   ],
   "source": [
    "ords_prods_merge.shape"
   ]
  },
  {
   "cell_type": "markdown",
   "id": "d9f1c3c0-a684-498a-bb62-20417bf03570",
   "metadata": {},
   "source": [
    "# 2. gropuping data - identify mean of order_numbers with entire dataset"
   ]
  },
  {
   "cell_type": "code",
   "execution_count": 5,
   "id": "84079f73-37d9-40c8-be1f-852bed5e3453",
   "metadata": {},
   "outputs": [
    {
     "data": {
      "text/html": [
       "<div>\n",
       "<style scoped>\n",
       "    .dataframe tbody tr th:only-of-type {\n",
       "        vertical-align: middle;\n",
       "    }\n",
       "\n",
       "    .dataframe tbody tr th {\n",
       "        vertical-align: top;\n",
       "    }\n",
       "\n",
       "    .dataframe thead tr th {\n",
       "        text-align: left;\n",
       "    }\n",
       "\n",
       "    .dataframe thead tr:last-of-type th {\n",
       "        text-align: right;\n",
       "    }\n",
       "</style>\n",
       "<table border=\"1\" class=\"dataframe\">\n",
       "  <thead>\n",
       "    <tr>\n",
       "      <th></th>\n",
       "      <th>order_number</th>\n",
       "    </tr>\n",
       "    <tr>\n",
       "      <th></th>\n",
       "      <th>mean</th>\n",
       "    </tr>\n",
       "    <tr>\n",
       "      <th>department_id</th>\n",
       "      <th></th>\n",
       "    </tr>\n",
       "  </thead>\n",
       "  <tbody>\n",
       "    <tr>\n",
       "      <th>1.0</th>\n",
       "      <td>15.457838</td>\n",
       "    </tr>\n",
       "    <tr>\n",
       "      <th>2.0</th>\n",
       "      <td>17.277920</td>\n",
       "    </tr>\n",
       "    <tr>\n",
       "      <th>3.0</th>\n",
       "      <td>17.170395</td>\n",
       "    </tr>\n",
       "    <tr>\n",
       "      <th>4.0</th>\n",
       "      <td>17.811403</td>\n",
       "    </tr>\n",
       "    <tr>\n",
       "      <th>5.0</th>\n",
       "      <td>15.215751</td>\n",
       "    </tr>\n",
       "    <tr>\n",
       "      <th>6.0</th>\n",
       "      <td>16.439806</td>\n",
       "    </tr>\n",
       "    <tr>\n",
       "      <th>7.0</th>\n",
       "      <td>17.225802</td>\n",
       "    </tr>\n",
       "    <tr>\n",
       "      <th>8.0</th>\n",
       "      <td>15.340650</td>\n",
       "    </tr>\n",
       "    <tr>\n",
       "      <th>9.0</th>\n",
       "      <td>15.895474</td>\n",
       "    </tr>\n",
       "    <tr>\n",
       "      <th>10.0</th>\n",
       "      <td>20.197148</td>\n",
       "    </tr>\n",
       "    <tr>\n",
       "      <th>11.0</th>\n",
       "      <td>16.170638</td>\n",
       "    </tr>\n",
       "    <tr>\n",
       "      <th>12.0</th>\n",
       "      <td>15.887671</td>\n",
       "    </tr>\n",
       "    <tr>\n",
       "      <th>13.0</th>\n",
       "      <td>16.583536</td>\n",
       "    </tr>\n",
       "    <tr>\n",
       "      <th>14.0</th>\n",
       "      <td>16.773669</td>\n",
       "    </tr>\n",
       "    <tr>\n",
       "      <th>15.0</th>\n",
       "      <td>16.165037</td>\n",
       "    </tr>\n",
       "    <tr>\n",
       "      <th>16.0</th>\n",
       "      <td>17.665606</td>\n",
       "    </tr>\n",
       "    <tr>\n",
       "      <th>17.0</th>\n",
       "      <td>15.694469</td>\n",
       "    </tr>\n",
       "    <tr>\n",
       "      <th>18.0</th>\n",
       "      <td>19.310397</td>\n",
       "    </tr>\n",
       "    <tr>\n",
       "      <th>19.0</th>\n",
       "      <td>17.177343</td>\n",
       "    </tr>\n",
       "    <tr>\n",
       "      <th>20.0</th>\n",
       "      <td>16.473447</td>\n",
       "    </tr>\n",
       "    <tr>\n",
       "      <th>21.0</th>\n",
       "      <td>22.902379</td>\n",
       "    </tr>\n",
       "  </tbody>\n",
       "</table>\n",
       "</div>"
      ],
      "text/plain": [
       "              order_number\n",
       "                      mean\n",
       "department_id             \n",
       "1.0              15.457838\n",
       "2.0              17.277920\n",
       "3.0              17.170395\n",
       "4.0              17.811403\n",
       "5.0              15.215751\n",
       "6.0              16.439806\n",
       "7.0              17.225802\n",
       "8.0              15.340650\n",
       "9.0              15.895474\n",
       "10.0             20.197148\n",
       "11.0             16.170638\n",
       "12.0             15.887671\n",
       "13.0             16.583536\n",
       "14.0             16.773669\n",
       "15.0             16.165037\n",
       "16.0             17.665606\n",
       "17.0             15.694469\n",
       "18.0             19.310397\n",
       "19.0             17.177343\n",
       "20.0             16.473447\n",
       "21.0             22.902379"
      ]
     },
     "execution_count": 5,
     "metadata": {},
     "output_type": "execute_result"
    }
   ],
   "source": [
    "ords_prods_merge.groupby('department_id').agg({'order_number': ['mean']})"
   ]
  },
  {
   "cell_type": "markdown",
   "id": "1e81c555-3f62-4913-b16c-59a1867b3788",
   "metadata": {},
   "source": [
    "As expected the results of the calculation of the mean in the subset and in the whole data set are slightly different while the biggest difference (in department_id 2) is about 3,4 (17,3 - whole dataset vs 20,7 subset) "
   ]
  },
  {
   "cell_type": "markdown",
   "id": "5b81298a-72fd-425b-8d5f-4e5d3747d31f",
   "metadata": {},
   "source": [
    "# 3. defining max_order and creating max_order column"
   ]
  },
  {
   "cell_type": "code",
   "execution_count": 6,
   "id": "d49ce5fb-0b3e-44b5-9a7e-41e3f71ab31f",
   "metadata": {},
   "outputs": [
    {
     "name": "stderr",
     "output_type": "stream",
     "text": [
      "/var/folders/ds/6109zp994ddgpkwq7qfc1y3c0000gp/T/ipykernel_17406/2573096944.py:2: FutureWarning: The provided callable <function max at 0x11099a980> is currently using SeriesGroupBy.max. In a future version of pandas, the provided callable will be used directly. To keep current behavior pass the string \"max\" instead.\n",
      "  ords_prods_merge['max_order'] = ords_prods_merge.groupby(['user_id'])['order_number'].transform(np.max)\n"
     ]
    }
   ],
   "source": [
    "# defining max_order and creating max_order column\n",
    "ords_prods_merge['max_order'] = ords_prods_merge.groupby(['user_id'])['order_number'].transform(np.max)"
   ]
  },
  {
   "cell_type": "code",
   "execution_count": 7,
   "id": "a9698c3f-03aa-4396-b0ab-245d409ad98b",
   "metadata": {},
   "outputs": [
    {
     "data": {
      "text/html": [
       "<div>\n",
       "<style scoped>\n",
       "    .dataframe tbody tr th:only-of-type {\n",
       "        vertical-align: middle;\n",
       "    }\n",
       "\n",
       "    .dataframe tbody tr th {\n",
       "        vertical-align: top;\n",
       "    }\n",
       "\n",
       "    .dataframe thead th {\n",
       "        text-align: right;\n",
       "    }\n",
       "</style>\n",
       "<table border=\"1\" class=\"dataframe\">\n",
       "  <thead>\n",
       "    <tr style=\"text-align: right;\">\n",
       "      <th></th>\n",
       "      <th>Unnamed: 0</th>\n",
       "      <th>product_id</th>\n",
       "      <th>product_name</th>\n",
       "      <th>aisle_id</th>\n",
       "      <th>department_id</th>\n",
       "      <th>prices</th>\n",
       "      <th>order_id</th>\n",
       "      <th>user_id</th>\n",
       "      <th>order_number</th>\n",
       "      <th>orders_day_of_week</th>\n",
       "      <th>order_hour_of_day</th>\n",
       "      <th>last_order (in days)</th>\n",
       "      <th>add_to_cart_order</th>\n",
       "      <th>reordered</th>\n",
       "      <th>_merge</th>\n",
       "      <th>price_range_loc</th>\n",
       "      <th>busiest day</th>\n",
       "      <th>busiest days</th>\n",
       "      <th>Most Orders</th>\n",
       "      <th>max_order</th>\n",
       "    </tr>\n",
       "  </thead>\n",
       "  <tbody>\n",
       "    <tr>\n",
       "      <th>0</th>\n",
       "      <td>0.0</td>\n",
       "      <td>1</td>\n",
       "      <td>Chocolate Sandwich Cookies</td>\n",
       "      <td>61.0</td>\n",
       "      <td>19.0</td>\n",
       "      <td>5.8</td>\n",
       "      <td>3139998.0</td>\n",
       "      <td>138.0</td>\n",
       "      <td>28.0</td>\n",
       "      <td>6.0</td>\n",
       "      <td>11.0</td>\n",
       "      <td>3.0</td>\n",
       "      <td>5.0</td>\n",
       "      <td>0.0</td>\n",
       "      <td>both</td>\n",
       "      <td>Mid-range product</td>\n",
       "      <td>Regularly busy</td>\n",
       "      <td>Regularly busy</td>\n",
       "      <td>Most Orders</td>\n",
       "      <td>32.0</td>\n",
       "    </tr>\n",
       "    <tr>\n",
       "      <th>1</th>\n",
       "      <td>0.0</td>\n",
       "      <td>1</td>\n",
       "      <td>Chocolate Sandwich Cookies</td>\n",
       "      <td>61.0</td>\n",
       "      <td>19.0</td>\n",
       "      <td>5.8</td>\n",
       "      <td>1977647.0</td>\n",
       "      <td>138.0</td>\n",
       "      <td>30.0</td>\n",
       "      <td>6.0</td>\n",
       "      <td>17.0</td>\n",
       "      <td>20.0</td>\n",
       "      <td>1.0</td>\n",
       "      <td>1.0</td>\n",
       "      <td>both</td>\n",
       "      <td>Mid-range product</td>\n",
       "      <td>Regularly busy</td>\n",
       "      <td>Regularly busy</td>\n",
       "      <td>Most Orders</td>\n",
       "      <td>32.0</td>\n",
       "    </tr>\n",
       "    <tr>\n",
       "      <th>2</th>\n",
       "      <td>0.0</td>\n",
       "      <td>1</td>\n",
       "      <td>Chocolate Sandwich Cookies</td>\n",
       "      <td>61.0</td>\n",
       "      <td>19.0</td>\n",
       "      <td>5.8</td>\n",
       "      <td>389851.0</td>\n",
       "      <td>709.0</td>\n",
       "      <td>2.0</td>\n",
       "      <td>0.0</td>\n",
       "      <td>21.0</td>\n",
       "      <td>6.0</td>\n",
       "      <td>20.0</td>\n",
       "      <td>0.0</td>\n",
       "      <td>both</td>\n",
       "      <td>Mid-range product</td>\n",
       "      <td>Busiest day</td>\n",
       "      <td>Busiest day</td>\n",
       "      <td>Most Orders</td>\n",
       "      <td>5.0</td>\n",
       "    </tr>\n",
       "    <tr>\n",
       "      <th>3</th>\n",
       "      <td>0.0</td>\n",
       "      <td>1</td>\n",
       "      <td>Chocolate Sandwich Cookies</td>\n",
       "      <td>61.0</td>\n",
       "      <td>19.0</td>\n",
       "      <td>5.8</td>\n",
       "      <td>652770.0</td>\n",
       "      <td>764.0</td>\n",
       "      <td>1.0</td>\n",
       "      <td>3.0</td>\n",
       "      <td>13.0</td>\n",
       "      <td>0.0</td>\n",
       "      <td>10.0</td>\n",
       "      <td>0.0</td>\n",
       "      <td>both</td>\n",
       "      <td>Mid-range product</td>\n",
       "      <td>Regularly busy</td>\n",
       "      <td>Least busy</td>\n",
       "      <td>Most Orders</td>\n",
       "      <td>3.0</td>\n",
       "    </tr>\n",
       "    <tr>\n",
       "      <th>4</th>\n",
       "      <td>0.0</td>\n",
       "      <td>1</td>\n",
       "      <td>Chocolate Sandwich Cookies</td>\n",
       "      <td>61.0</td>\n",
       "      <td>19.0</td>\n",
       "      <td>5.8</td>\n",
       "      <td>1813452.0</td>\n",
       "      <td>764.0</td>\n",
       "      <td>3.0</td>\n",
       "      <td>4.0</td>\n",
       "      <td>17.0</td>\n",
       "      <td>9.0</td>\n",
       "      <td>11.0</td>\n",
       "      <td>1.0</td>\n",
       "      <td>both</td>\n",
       "      <td>Mid-range product</td>\n",
       "      <td>Least busy</td>\n",
       "      <td>Least busy</td>\n",
       "      <td>Most Orders</td>\n",
       "      <td>3.0</td>\n",
       "    </tr>\n",
       "  </tbody>\n",
       "</table>\n",
       "</div>"
      ],
      "text/plain": [
       "   Unnamed: 0  product_id                product_name  aisle_id  \\\n",
       "0         0.0           1  Chocolate Sandwich Cookies      61.0   \n",
       "1         0.0           1  Chocolate Sandwich Cookies      61.0   \n",
       "2         0.0           1  Chocolate Sandwich Cookies      61.0   \n",
       "3         0.0           1  Chocolate Sandwich Cookies      61.0   \n",
       "4         0.0           1  Chocolate Sandwich Cookies      61.0   \n",
       "\n",
       "   department_id  prices   order_id  user_id  order_number  \\\n",
       "0           19.0     5.8  3139998.0    138.0          28.0   \n",
       "1           19.0     5.8  1977647.0    138.0          30.0   \n",
       "2           19.0     5.8   389851.0    709.0           2.0   \n",
       "3           19.0     5.8   652770.0    764.0           1.0   \n",
       "4           19.0     5.8  1813452.0    764.0           3.0   \n",
       "\n",
       "   orders_day_of_week  order_hour_of_day  last_order (in days)  \\\n",
       "0                 6.0               11.0                   3.0   \n",
       "1                 6.0               17.0                  20.0   \n",
       "2                 0.0               21.0                   6.0   \n",
       "3                 3.0               13.0                   0.0   \n",
       "4                 4.0               17.0                   9.0   \n",
       "\n",
       "   add_to_cart_order  reordered _merge    price_range_loc     busiest day  \\\n",
       "0                5.0        0.0   both  Mid-range product  Regularly busy   \n",
       "1                1.0        1.0   both  Mid-range product  Regularly busy   \n",
       "2               20.0        0.0   both  Mid-range product     Busiest day   \n",
       "3               10.0        0.0   both  Mid-range product  Regularly busy   \n",
       "4               11.0        1.0   both  Mid-range product      Least busy   \n",
       "\n",
       "     busiest days  Most Orders  max_order  \n",
       "0  Regularly busy  Most Orders       32.0  \n",
       "1  Regularly busy  Most Orders       32.0  \n",
       "2     Busiest day  Most Orders        5.0  \n",
       "3      Least busy  Most Orders        3.0  \n",
       "4      Least busy  Most Orders        3.0  "
      ]
     },
     "execution_count": 7,
     "metadata": {},
     "output_type": "execute_result"
    }
   ],
   "source": [
    "ords_prods_merge.head(5)"
   ]
  },
  {
   "cell_type": "markdown",
   "id": "5513a1cc-956a-41e2-bc65-47001e685fd3",
   "metadata": {},
   "source": [
    "# 4. assigning loyalty-flag with loc() function"
   ]
  },
  {
   "cell_type": "code",
   "execution_count": 8,
   "id": "897c86c5-133e-4eeb-bdb3-15607a941e2b",
   "metadata": {},
   "outputs": [],
   "source": [
    "# assigning loyalty-categories"
   ]
  },
  {
   "cell_type": "code",
   "execution_count": 9,
   "id": "d5c0e569-ffed-4b57-b372-2462ca743e1c",
   "metadata": {},
   "outputs": [],
   "source": [
    "ords_prods_merge.loc[ords_prods_merge['max_order'] > 40, 'loyalty_flag'] = 'Loyal customer'"
   ]
  },
  {
   "cell_type": "code",
   "execution_count": 10,
   "id": "6acd6cd0-7730-4061-918c-9a2ef8f8bc49",
   "metadata": {},
   "outputs": [],
   "source": [
    "ords_prods_merge.loc[(ords_prods_merge['max_order'] <= 40) & (ords_prods_merge['max_order'] > 10), 'loyalty_flag'] = 'Regular customer'"
   ]
  },
  {
   "cell_type": "code",
   "execution_count": 11,
   "id": "6513bb94-311b-47c6-bc87-788440ce79c3",
   "metadata": {},
   "outputs": [],
   "source": [
    "ords_prods_merge.loc[ords_prods_merge['max_order'] <= 10, 'loyalty_flag'] = 'New customer'"
   ]
  },
  {
   "cell_type": "code",
   "execution_count": 12,
   "id": "3b7df10d-4242-4c2f-aab1-b51a3effac75",
   "metadata": {},
   "outputs": [
    {
     "data": {
      "text/plain": [
       "loyalty_flag\n",
       "Regular customer    15891507\n",
       "Loyal customer      10294027\n",
       "New customer         6249525\n",
       "NaN                       11\n",
       "Name: count, dtype: int64"
      ]
     },
     "execution_count": 12,
     "metadata": {},
     "output_type": "execute_result"
    }
   ],
   "source": [
    "# check results\n",
    "ords_prods_merge['loyalty_flag'].value_counts(dropna=False)"
   ]
  },
  {
   "cell_type": "markdown",
   "id": "e07a7b14-e16f-4228-89c0-341206c47104",
   "metadata": {},
   "source": [
    "# 5. basic statistics of loyalty_flags"
   ]
  },
  {
   "cell_type": "code",
   "execution_count": 13,
   "id": "b3a26b66-2830-40b1-a730-4deb247bf2e0",
   "metadata": {},
   "outputs": [
    {
     "data": {
      "text/html": [
       "<div>\n",
       "<style scoped>\n",
       "    .dataframe tbody tr th:only-of-type {\n",
       "        vertical-align: middle;\n",
       "    }\n",
       "\n",
       "    .dataframe tbody tr th {\n",
       "        vertical-align: top;\n",
       "    }\n",
       "\n",
       "    .dataframe thead tr th {\n",
       "        text-align: left;\n",
       "    }\n",
       "\n",
       "    .dataframe thead tr:last-of-type th {\n",
       "        text-align: right;\n",
       "    }\n",
       "</style>\n",
       "<table border=\"1\" class=\"dataframe\">\n",
       "  <thead>\n",
       "    <tr>\n",
       "      <th></th>\n",
       "      <th colspan=\"3\" halign=\"left\">prices</th>\n",
       "    </tr>\n",
       "    <tr>\n",
       "      <th></th>\n",
       "      <th>mean</th>\n",
       "      <th>min</th>\n",
       "      <th>max</th>\n",
       "    </tr>\n",
       "    <tr>\n",
       "      <th>loyalty_flag</th>\n",
       "      <th></th>\n",
       "      <th></th>\n",
       "      <th></th>\n",
       "    </tr>\n",
       "  </thead>\n",
       "  <tbody>\n",
       "    <tr>\n",
       "      <th>Loyal customer</th>\n",
       "      <td>10.386336</td>\n",
       "      <td>1.0</td>\n",
       "      <td>99999.0</td>\n",
       "    </tr>\n",
       "    <tr>\n",
       "      <th>New customer</th>\n",
       "      <td>13.294670</td>\n",
       "      <td>1.0</td>\n",
       "      <td>99999.0</td>\n",
       "    </tr>\n",
       "    <tr>\n",
       "      <th>Regular customer</th>\n",
       "      <td>12.495717</td>\n",
       "      <td>1.0</td>\n",
       "      <td>99999.0</td>\n",
       "    </tr>\n",
       "  </tbody>\n",
       "</table>\n",
       "</div>"
      ],
      "text/plain": [
       "                     prices              \n",
       "                       mean  min      max\n",
       "loyalty_flag                             \n",
       "Loyal customer    10.386336  1.0  99999.0\n",
       "New customer      13.294670  1.0  99999.0\n",
       "Regular customer  12.495717  1.0  99999.0"
      ]
     },
     "execution_count": 13,
     "metadata": {},
     "output_type": "execute_result"
    }
   ],
   "source": [
    "ords_prods_merge.groupby('loyalty_flag').agg({'prices' : ['mean', 'min', 'max']})"
   ]
  },
  {
   "cell_type": "markdown",
   "id": "77181a7f-72e7-427f-9616-43aeea65c496",
   "metadata": {},
   "source": [
    "compared to the regular and new customers the loyal customers purchase in a lower price-segment. the min and max values are not so interesting since, as mentioned in the text \"the minimum orders will always be 1 and the maximum has been capped at 99 by the data engineers at Instacart\""
   ]
  },
  {
   "cell_type": "markdown",
   "id": "16a4cf16-9c15-4944-9e7f-27f8a57fb762",
   "metadata": {},
   "source": [
    "# 6. create a spending_flag"
   ]
  },
  {
   "cell_type": "code",
   "execution_count": 14,
   "id": "04bff9fd-d90b-49ce-99be-e917a043f0c4",
   "metadata": {},
   "outputs": [
    {
     "name": "stderr",
     "output_type": "stream",
     "text": [
      "/var/folders/ds/6109zp994ddgpkwq7qfc1y3c0000gp/T/ipykernel_17406/2363129049.py:2: FutureWarning: The provided callable <function mean at 0x11099b380> is currently using SeriesGroupBy.mean. In a future version of pandas, the provided callable will be used directly. To keep current behavior pass the string \"mean\" instead.\n",
      "  ords_prods_merge['mean_prices'] = ords_prods_merge.groupby(['user_id'])['prices'].transform(np.mean)\n"
     ]
    }
   ],
   "source": [
    "# mean prices and mean_prices column\n",
    "ords_prods_merge['mean_prices'] = ords_prods_merge.groupby(['user_id'])['prices'].transform(np.mean)"
   ]
  },
  {
   "cell_type": "code",
   "execution_count": 15,
   "id": "4f24fc25-f6df-44bb-bf40-9b255b836845",
   "metadata": {},
   "outputs": [],
   "source": [
    "# define and assigne categories for spending flag\n",
    "ords_prods_merge.loc[ords_prods_merge['mean_prices'] < 10, 'spending_flag'] = 'Low spender'\n",
    "ords_prods_merge.loc[ords_prods_merge['mean_prices'] >= 10, 'spending_flag'] = 'High spender'"
   ]
  },
  {
   "cell_type": "code",
   "execution_count": 16,
   "id": "7d8779ae-9f53-445b-92b6-5029b22be7c6",
   "metadata": {
    "scrolled": true
   },
   "outputs": [
    {
     "data": {
      "text/html": [
       "<div>\n",
       "<style scoped>\n",
       "    .dataframe tbody tr th:only-of-type {\n",
       "        vertical-align: middle;\n",
       "    }\n",
       "\n",
       "    .dataframe tbody tr th {\n",
       "        vertical-align: top;\n",
       "    }\n",
       "\n",
       "    .dataframe thead th {\n",
       "        text-align: right;\n",
       "    }\n",
       "</style>\n",
       "<table border=\"1\" class=\"dataframe\">\n",
       "  <thead>\n",
       "    <tr style=\"text-align: right;\">\n",
       "      <th></th>\n",
       "      <th>user_id</th>\n",
       "      <th>max_order</th>\n",
       "      <th>loyalty_flag</th>\n",
       "      <th>mean_prices</th>\n",
       "      <th>spending_flag</th>\n",
       "    </tr>\n",
       "  </thead>\n",
       "  <tbody>\n",
       "    <tr>\n",
       "      <th>0</th>\n",
       "      <td>138.0</td>\n",
       "      <td>32.0</td>\n",
       "      <td>Regular customer</td>\n",
       "      <td>6.935811</td>\n",
       "      <td>Low spender</td>\n",
       "    </tr>\n",
       "    <tr>\n",
       "      <th>1</th>\n",
       "      <td>138.0</td>\n",
       "      <td>32.0</td>\n",
       "      <td>Regular customer</td>\n",
       "      <td>6.935811</td>\n",
       "      <td>Low spender</td>\n",
       "    </tr>\n",
       "    <tr>\n",
       "      <th>2</th>\n",
       "      <td>709.0</td>\n",
       "      <td>5.0</td>\n",
       "      <td>New customer</td>\n",
       "      <td>7.930208</td>\n",
       "      <td>Low spender</td>\n",
       "    </tr>\n",
       "    <tr>\n",
       "      <th>3</th>\n",
       "      <td>764.0</td>\n",
       "      <td>3.0</td>\n",
       "      <td>New customer</td>\n",
       "      <td>4.972414</td>\n",
       "      <td>Low spender</td>\n",
       "    </tr>\n",
       "    <tr>\n",
       "      <th>4</th>\n",
       "      <td>764.0</td>\n",
       "      <td>3.0</td>\n",
       "      <td>New customer</td>\n",
       "      <td>4.972414</td>\n",
       "      <td>Low spender</td>\n",
       "    </tr>\n",
       "    <tr>\n",
       "      <th>5</th>\n",
       "      <td>777.0</td>\n",
       "      <td>26.0</td>\n",
       "      <td>Regular customer</td>\n",
       "      <td>6.935398</td>\n",
       "      <td>Low spender</td>\n",
       "    </tr>\n",
       "    <tr>\n",
       "      <th>6</th>\n",
       "      <td>825.0</td>\n",
       "      <td>9.0</td>\n",
       "      <td>New customer</td>\n",
       "      <td>5.957576</td>\n",
       "      <td>Low spender</td>\n",
       "    </tr>\n",
       "    <tr>\n",
       "      <th>7</th>\n",
       "      <td>910.0</td>\n",
       "      <td>12.0</td>\n",
       "      <td>Regular customer</td>\n",
       "      <td>6.680000</td>\n",
       "      <td>Low spender</td>\n",
       "    </tr>\n",
       "    <tr>\n",
       "      <th>8</th>\n",
       "      <td>1052.0</td>\n",
       "      <td>20.0</td>\n",
       "      <td>Regular customer</td>\n",
       "      <td>7.162500</td>\n",
       "      <td>Low spender</td>\n",
       "    </tr>\n",
       "    <tr>\n",
       "      <th>9</th>\n",
       "      <td>1052.0</td>\n",
       "      <td>20.0</td>\n",
       "      <td>Regular customer</td>\n",
       "      <td>7.162500</td>\n",
       "      <td>Low spender</td>\n",
       "    </tr>\n",
       "  </tbody>\n",
       "</table>\n",
       "</div>"
      ],
      "text/plain": [
       "   user_id  max_order      loyalty_flag  mean_prices spending_flag\n",
       "0    138.0       32.0  Regular customer     6.935811   Low spender\n",
       "1    138.0       32.0  Regular customer     6.935811   Low spender\n",
       "2    709.0        5.0      New customer     7.930208   Low spender\n",
       "3    764.0        3.0      New customer     4.972414   Low spender\n",
       "4    764.0        3.0      New customer     4.972414   Low spender\n",
       "5    777.0       26.0  Regular customer     6.935398   Low spender\n",
       "6    825.0        9.0      New customer     5.957576   Low spender\n",
       "7    910.0       12.0  Regular customer     6.680000   Low spender\n",
       "8   1052.0       20.0  Regular customer     7.162500   Low spender\n",
       "9   1052.0       20.0  Regular customer     7.162500   Low spender"
      ]
     },
     "execution_count": 16,
     "metadata": {},
     "output_type": "execute_result"
    }
   ],
   "source": [
    "# check output\n",
    "ords_prods_merge [['user_id', 'max_order', 'loyalty_flag', 'mean_prices','spending_flag']].head(10)"
   ]
  },
  {
   "cell_type": "code",
   "execution_count": 26,
   "id": "753eb204-aaff-441c-be8b-9c65085b6dc4",
   "metadata": {},
   "outputs": [
    {
     "data": {
      "text/plain": [
       "spending_flag\n",
       "Low spender     31800381\n",
       "High spender      634678\n",
       "NaN                   11\n",
       "Name: count, dtype: int64"
      ]
     },
     "execution_count": 26,
     "metadata": {},
     "output_type": "execute_result"
    }
   ],
   "source": [
    "ords_prods_merge['spending_flag'].value_counts (dropna=False)"
   ]
  },
  {
   "cell_type": "markdown",
   "id": "8e052b78-f2aa-45ba-8eb1-bb2c24f03afc",
   "metadata": {},
   "source": [
    "# 7. create an order_frequency_flag "
   ]
  },
  {
   "cell_type": "markdown",
   "id": "8bf142cf-0ef6-4969-ae56-091d78b6b4d3",
   "metadata": {},
   "source": [
    "according to the median in the “days_since_prior_order” column"
   ]
  },
  {
   "cell_type": "code",
   "execution_count": 17,
   "id": "ee595973-77a2-4f35-8eff-2db96b3af83a",
   "metadata": {},
   "outputs": [
    {
     "name": "stderr",
     "output_type": "stream",
     "text": [
      "/var/folders/ds/6109zp994ddgpkwq7qfc1y3c0000gp/T/ipykernel_17406/2912947416.py:2: FutureWarning: The provided callable <function median at 0x110ada020> is currently using SeriesGroupBy.median. In a future version of pandas, the provided callable will be used directly. To keep current behavior pass the string \"median\" instead.\n",
      "  ords_prods_merge['median_frequency'] = ords_prods_merge.groupby(['user_id'])['last_order (in days)'].transform(np.median)\n"
     ]
    }
   ],
   "source": [
    "# create new column based on frequency median\n",
    "ords_prods_merge['median_frequency'] = ords_prods_merge.groupby(['user_id'])['last_order (in days)'].transform(np.median)"
   ]
  },
  {
   "cell_type": "code",
   "execution_count": 17,
   "id": "6a758e46-3090-496d-a978-8688a185f0d4",
   "metadata": {},
   "outputs": [
    {
     "name": "stderr",
     "output_type": "stream",
     "text": [
      "/var/folders/ds/6109zp994ddgpkwq7qfc1y3c0000gp/T/ipykernel_17406/2912947416.py:2: FutureWarning: The provided callable <function median at 0x110ada020> is currently using SeriesGroupBy.median. In a future version of pandas, the provided callable will be used directly. To keep current behavior pass the string \"median\" instead.\n",
      "  ords_prods_merge['median_frequency'] = ords_prods_merge.groupby(['user_id'])['last_order (in days)'].transform(np.median)\n"
     ]
    }
   ],
   "source": [
    "# create new column based on frequency median\n",
    "ords_prods_merge['median_frequency'] = ords_prods_merge.groupby(['user_id'])['last_order (in days)'].transform(np.median)"
   ]
  },
  {
   "cell_type": "code",
   "execution_count": 18,
   "id": "3cfa0628-9248-4f34-9dd3-48589ddbb136",
   "metadata": {},
   "outputs": [],
   "source": [
    "# define and assigne categories for order frequency\n",
    "ords_prods_merge.loc[ords_prods_merge['median_frequency'] > 20, 'order_frequency_flag'] = 'Non-frequent customer'"
   ]
  },
  {
   "cell_type": "code",
   "execution_count": 19,
   "id": "d9d611ea-b92d-4798-9153-87b787983375",
   "metadata": {},
   "outputs": [],
   "source": [
    "ords_prods_merge.loc[(ords_prods_merge['median_frequency'] > 10)& (ords_prods_merge['median_frequency'] <=20),'order_frequency_flag'] = 'Regular customer'"
   ]
  },
  {
   "cell_type": "code",
   "execution_count": 20,
   "id": "b9ae734b-9442-4d09-8b07-d03e17d43a75",
   "metadata": {},
   "outputs": [],
   "source": [
    "ords_prods_merge.loc[ords_prods_merge['median_frequency'] <= 10, 'order_frequency_flag'] = 'Frequent customer'"
   ]
  },
  {
   "cell_type": "code",
   "execution_count": 21,
   "id": "c42fe30f-447f-4df1-9e82-62a4116b17c0",
   "metadata": {},
   "outputs": [],
   "source": [
    "# check output"
   ]
  },
  {
   "cell_type": "code",
   "execution_count": 22,
   "id": "e3ccb70a-0292-4faf-9847-fc8a5a7f2438",
   "metadata": {},
   "outputs": [
    {
     "data": {
      "text/plain": [
       "order_frequency_flag\n",
       "Frequent customer        22816041\n",
       "Regular customer          6929012\n",
       "Non-frequent customer     2690006\n",
       "NaN                            11\n",
       "Name: count, dtype: int64"
      ]
     },
     "execution_count": 22,
     "metadata": {},
     "output_type": "execute_result"
    }
   ],
   "source": [
    "\n",
    "ords_prods_merge['order_frequency_flag'].value_counts (dropna=False)"
   ]
  },
  {
   "cell_type": "code",
   "execution_count": 23,
   "id": "0c535387-d810-4c6c-9fba-3173b6c3c0b8",
   "metadata": {},
   "outputs": [
    {
     "data": {
      "text/html": [
       "<div>\n",
       "<style scoped>\n",
       "    .dataframe tbody tr th:only-of-type {\n",
       "        vertical-align: middle;\n",
       "    }\n",
       "\n",
       "    .dataframe tbody tr th {\n",
       "        vertical-align: top;\n",
       "    }\n",
       "\n",
       "    .dataframe thead th {\n",
       "        text-align: right;\n",
       "    }\n",
       "</style>\n",
       "<table border=\"1\" class=\"dataframe\">\n",
       "  <thead>\n",
       "    <tr style=\"text-align: right;\">\n",
       "      <th></th>\n",
       "      <th>user_id</th>\n",
       "      <th>max_order</th>\n",
       "      <th>mean_prices</th>\n",
       "      <th>spending_flag</th>\n",
       "      <th>loyalty_flag</th>\n",
       "      <th>median_frequency</th>\n",
       "      <th>order_frequency_flag</th>\n",
       "    </tr>\n",
       "  </thead>\n",
       "  <tbody>\n",
       "    <tr>\n",
       "      <th>0</th>\n",
       "      <td>138.0</td>\n",
       "      <td>32.0</td>\n",
       "      <td>6.935811</td>\n",
       "      <td>Low spender</td>\n",
       "      <td>Regular customer</td>\n",
       "      <td>8.0</td>\n",
       "      <td>Frequent customer</td>\n",
       "    </tr>\n",
       "    <tr>\n",
       "      <th>1</th>\n",
       "      <td>138.0</td>\n",
       "      <td>32.0</td>\n",
       "      <td>6.935811</td>\n",
       "      <td>Low spender</td>\n",
       "      <td>Regular customer</td>\n",
       "      <td>8.0</td>\n",
       "      <td>Frequent customer</td>\n",
       "    </tr>\n",
       "    <tr>\n",
       "      <th>2</th>\n",
       "      <td>709.0</td>\n",
       "      <td>5.0</td>\n",
       "      <td>7.930208</td>\n",
       "      <td>Low spender</td>\n",
       "      <td>New customer</td>\n",
       "      <td>6.0</td>\n",
       "      <td>Frequent customer</td>\n",
       "    </tr>\n",
       "    <tr>\n",
       "      <th>3</th>\n",
       "      <td>764.0</td>\n",
       "      <td>3.0</td>\n",
       "      <td>4.972414</td>\n",
       "      <td>Low spender</td>\n",
       "      <td>New customer</td>\n",
       "      <td>9.0</td>\n",
       "      <td>Frequent customer</td>\n",
       "    </tr>\n",
       "    <tr>\n",
       "      <th>4</th>\n",
       "      <td>764.0</td>\n",
       "      <td>3.0</td>\n",
       "      <td>4.972414</td>\n",
       "      <td>Low spender</td>\n",
       "      <td>New customer</td>\n",
       "      <td>9.0</td>\n",
       "      <td>Frequent customer</td>\n",
       "    </tr>\n",
       "    <tr>\n",
       "      <th>5</th>\n",
       "      <td>777.0</td>\n",
       "      <td>26.0</td>\n",
       "      <td>6.935398</td>\n",
       "      <td>Low spender</td>\n",
       "      <td>Regular customer</td>\n",
       "      <td>11.0</td>\n",
       "      <td>Regular customer</td>\n",
       "    </tr>\n",
       "    <tr>\n",
       "      <th>6</th>\n",
       "      <td>825.0</td>\n",
       "      <td>9.0</td>\n",
       "      <td>5.957576</td>\n",
       "      <td>Low spender</td>\n",
       "      <td>New customer</td>\n",
       "      <td>19.0</td>\n",
       "      <td>Regular customer</td>\n",
       "    </tr>\n",
       "    <tr>\n",
       "      <th>7</th>\n",
       "      <td>910.0</td>\n",
       "      <td>12.0</td>\n",
       "      <td>6.680000</td>\n",
       "      <td>Low spender</td>\n",
       "      <td>Regular customer</td>\n",
       "      <td>3.5</td>\n",
       "      <td>Frequent customer</td>\n",
       "    </tr>\n",
       "    <tr>\n",
       "      <th>8</th>\n",
       "      <td>1052.0</td>\n",
       "      <td>20.0</td>\n",
       "      <td>7.162500</td>\n",
       "      <td>Low spender</td>\n",
       "      <td>Regular customer</td>\n",
       "      <td>9.5</td>\n",
       "      <td>Frequent customer</td>\n",
       "    </tr>\n",
       "    <tr>\n",
       "      <th>9</th>\n",
       "      <td>1052.0</td>\n",
       "      <td>20.0</td>\n",
       "      <td>7.162500</td>\n",
       "      <td>Low spender</td>\n",
       "      <td>Regular customer</td>\n",
       "      <td>9.5</td>\n",
       "      <td>Frequent customer</td>\n",
       "    </tr>\n",
       "  </tbody>\n",
       "</table>\n",
       "</div>"
      ],
      "text/plain": [
       "   user_id  max_order  mean_prices spending_flag      loyalty_flag  \\\n",
       "0    138.0       32.0     6.935811   Low spender  Regular customer   \n",
       "1    138.0       32.0     6.935811   Low spender  Regular customer   \n",
       "2    709.0        5.0     7.930208   Low spender      New customer   \n",
       "3    764.0        3.0     4.972414   Low spender      New customer   \n",
       "4    764.0        3.0     4.972414   Low spender      New customer   \n",
       "5    777.0       26.0     6.935398   Low spender  Regular customer   \n",
       "6    825.0        9.0     5.957576   Low spender      New customer   \n",
       "7    910.0       12.0     6.680000   Low spender  Regular customer   \n",
       "8   1052.0       20.0     7.162500   Low spender  Regular customer   \n",
       "9   1052.0       20.0     7.162500   Low spender  Regular customer   \n",
       "\n",
       "   median_frequency order_frequency_flag  \n",
       "0               8.0    Frequent customer  \n",
       "1               8.0    Frequent customer  \n",
       "2               6.0    Frequent customer  \n",
       "3               9.0    Frequent customer  \n",
       "4               9.0    Frequent customer  \n",
       "5              11.0     Regular customer  \n",
       "6              19.0     Regular customer  \n",
       "7               3.5    Frequent customer  \n",
       "8               9.5    Frequent customer  \n",
       "9               9.5    Frequent customer  "
      ]
     },
     "execution_count": 23,
     "metadata": {},
     "output_type": "execute_result"
    }
   ],
   "source": [
    "ords_prods_merge [['user_id', 'max_order', 'mean_prices','spending_flag', 'loyalty_flag', 'median_frequency','order_frequency_flag']].head(10)"
   ]
  },
  {
   "cell_type": "code",
   "execution_count": 24,
   "id": "76682ef1-5900-4d3b-9e8d-c695ec7aa58f",
   "metadata": {},
   "outputs": [],
   "source": [
    "# export notebook\n",
    "ords_prods_merge.to_pickle(os.path.join(path, '02_Data','2.2 Prepared Data', 'ords_prods_merge_4.8.pkl'))"
   ]
  },
  {
   "cell_type": "code",
   "execution_count": 25,
   "id": "d8343b34-6049-4226-b055-b8dfd804617e",
   "metadata": {},
   "outputs": [
    {
     "data": {
      "text/plain": [
       "(32435070, 25)"
      ]
     },
     "execution_count": 25,
     "metadata": {},
     "output_type": "execute_result"
    }
   ],
   "source": [
    "ords_prods_merge.shape"
   ]
  }
 ],
 "metadata": {
  "kernelspec": {
   "display_name": "Python [conda env:base] *",
   "language": "python",
   "name": "conda-base-py"
  },
  "language_info": {
   "codemirror_mode": {
    "name": "ipython",
    "version": 3
   },
   "file_extension": ".py",
   "mimetype": "text/x-python",
   "name": "python",
   "nbconvert_exporter": "python",
   "pygments_lexer": "ipython3",
   "version": "3.12.7"
  }
 },
 "nbformat": 4,
 "nbformat_minor": 5
}
